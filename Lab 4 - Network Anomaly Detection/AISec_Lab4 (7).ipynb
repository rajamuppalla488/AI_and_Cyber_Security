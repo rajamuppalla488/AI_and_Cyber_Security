{
  "nbformat": 4,
  "nbformat_minor": 0,
  "metadata": {
    "colab": {
      "name": "AISec_Lab4.ipynb",
      "provenance": [],
      "collapsed_sections": []
    },
    "kernelspec": {
      "display_name": "Python 3",
      "name": "python3"
    }
  },
  "cells": [
    {
      "cell_type": "markdown",
      "metadata": {
        "id": "Zv0y9Xlc2NV4"
      },
      "source": [
        "# **Anomaly Detection in Network Traffic with K-means clustering**\n",
        "We can categorize machine learning algorithms into two main groups: supervised learning and unsupervised learning. With supervised learning algorithms, in order to predict unknown values for new data, we have to know the target value for many previously-seen examples. In contrast, unsupervised learning algorithms explore the data which has no target attribute to find some intrinsic structures in them.\n",
        "\n",
        "Clustering is a technique for finding similar groups in data, called clusters. Clustering is often called an unsupervised learning task as no class values denoting an a priori grouping of the data instances are given.\n",
        "\n",
        "In this notebook, we will use K-means, a very well known clustering algorithm to detect anomaly network connections based on statistics about each of them. For a thorough overview of K-means clustering, from a research perspective, have a look at this wonderful tutorial.\n",
        "\n",
        "# Goals\n",
        "We expect students to:\n",
        "* Learn (or revise) and understand the K-means algorithm\n",
        "* Implement a simple K-means algorithm\n",
        "* Use K-means to detect anomalies network connection data\n",
        "\n",
        "# Steps\n",
        "1. In section 1, we will have an overview about K-means then implement a simple version of it.\n",
        "2. In section 2, we build models with and without categorical features.\n",
        "3. Finally, in the last section, using our models, we will detect unsual connections."
      ]
    },
    {
      "cell_type": "markdown",
      "metadata": {
        "id": "If9-fb0b2gpE"
      },
      "source": [
        "# **1. K-means**\n",
        "# **1.1. Introduction**\n",
        "Clustering is a typical and well-known type of unsupervised learning. Clustering algorithms try to find natural groupings in data. Similar data points (according to some notion of similarity) are considered in the same group. We call these groups **clusters**.\n",
        "\n",
        "K-Means clustering is a simple and widely-used clustering algorithm. Given value of  k , it tries to build  k  clusters from samples in the dataset. Therefore,  k  is an hyperparameter of the model. The right value of  k  is not easy to determine, as it highly depends on the data set and the way that data is featurized.\n",
        "\n",
        "To measue the similarity between any two data points, K-means requires the definition of a distance funtion between data points. What is a distance? It is a value that indicates how close two data points are in their space. In particular, when data points lie in a  d -dimensional space, the Euclidean distance is a good choice of a distance function, and is supported by MLLIB.\n",
        "\n",
        "In K-means, a cluster is a group of points, with a representative entity called a centroid. A centroid is also a point in the data space: the center of all the points that make up the cluster. It's defined to be the arithmetic mean of the points. In general, when working with K-means, each data sample is represented in a  d -dimensional numeric vector, for which it is easier to define an appropriate distance function. As a consequence, in some applications, the original data must be transformed into a different representation, to fit the requirements of K-means.\n",
        "\n",
        "# **1.2. How does it work ?**\n",
        "Given  k , the K-means algorithm works as follows:\n",
        "\n",
        "1. Randomly choose  k  data points (seeds) to be the initial centroids\n",
        "2. Assign each data point to the closest centroid\n",
        "3. Re-compute (update) the centroids using the current cluster memberships\n",
        "4. If a convergence criterion is not met, go to step 2\n",
        "\n",
        "We can also terminate the algorithm when it reaches an iteration budget, which yields an approximate result. From the pseudo-code of the algorithm, we can see that K-means clustering results can be sensitive to the order in which data samples in the data set are explored. A sensible practice would be to run the analysis several times, randomizing objects order; then, average the cluster centres of those runs and input the centres as initial ones for one final run of the analysis.\n",
        "\n",
        "# **1.3. Illustrative example**\n",
        "One of the best ways to study an algorithm is trying implement it. In this section, we will go step by step to implement a simple K-means algorithm."
      ]
    },
    {
      "cell_type": "markdown",
      "metadata": {
        "id": "TG6LBq9e3TFV"
      },
      "source": [
        "Use the below function to calculate an euclidean distance between any two points in  d -dimensional data space."
      ]
    },
    {
      "cell_type": "code",
      "metadata": {
        "id": "MLJdVnXd1r1f"
      },
      "source": [
        "import numpy as np\n",
        "\n",
        "# calculate distance between two d-dimensional points\n",
        "def euclidean_distance(p1, p2):\n",
        "    return np.sqrt(np.sum([(c1 - c2)**2 for c1, c2 in zip(p1, p2)]))\n",
        "\n",
        "# test our function\n",
        "assert (round(euclidean_distance([1,2,3] , [10,18,12]), 2) == 20.45), \"Function's wrong\""
      ],
      "execution_count": 41,
      "outputs": []
    },
    {
      "cell_type": "markdown",
      "metadata": {
        "id": "ZSEXOoo-3xKg"
      },
      "source": [
        "Given a data point and the current set of centroids, use the function below to find the index of the closest centroid for that data point."
      ]
    },
    {
      "cell_type": "code",
      "metadata": {
        "id": "WzB2Z3c2346m"
      },
      "source": [
        "def find_closest_centroid(datapoint, centroids):\n",
        "    # find the index of the closest centroid of the given data point.\n",
        "    return min(enumerate(centroids), key=lambda x: euclidean_distance(datapoint, x[1]))[0]\n",
        "\n",
        "assert(find_closest_centroid( [1,1,1], [ [2,1,2], [1,2,1], [3,1,2] ] ) == 1), \"Function's wrong\""
      ],
      "execution_count": null,
      "outputs": []
    },
    {
      "cell_type": "markdown",
      "metadata": {
        "id": "4H3VcqRK38NV"
      },
      "source": [
        "Use the function below to randomize  k  initial centroids."
      ]
    },
    {
      "cell_type": "code",
      "metadata": {
        "id": "2x8l-g5u3-7u"
      },
      "source": [
        "np.random.seed(22324)\n",
        "\n",
        "# randomize initial centroids\n",
        "def randomize_centroids(data, k):\n",
        "    random_indices = np.arange(len(data))\n",
        "    np.random.shuffle(random_indices)\n",
        "    random_indices = random_indices[:k]\n",
        "    centroids = [data[i] for i in range(len(data)) if i in random_indices]\n",
        "    return centroids\n",
        "\n",
        "assert(len(\n",
        "    randomize_centroids(\n",
        "        np.array([ \n",
        "            np.array([2,1,2]), \n",
        "            np.array([1,2,1]), \n",
        "            np.array([3,1,2]) \n",
        "             ]), \n",
        "        2)) == 2), \"Wrong function\""
      ],
      "execution_count": 43,
      "outputs": []
    },
    {
      "cell_type": "markdown",
      "metadata": {
        "id": "_2p1td0t4BwO"
      },
      "source": [
        "Use function check_converge to check the stop creteria of the algorithm."
      ]
    },
    {
      "cell_type": "code",
      "metadata": {
        "id": "BwgM2DOn4FwP"
      },
      "source": [
        "MAX_ITERATIONS = 10\n",
        "\n",
        "# return True if clusters have converged , otherwise, return False  \n",
        "def check_converge(centroids, old_centroids, num_iterations, threshold=0):\n",
        "    # if it reaches an iteration budget\n",
        "    if num_iterations > MAX_ITERATIONS:\n",
        "        return True\n",
        "    # check if the centroids don't move (or very slightly)\n",
        "    distances = np.array([euclidean_distance(c, o) for c, o in zip(centroids, old_centroids)])\n",
        "    if (distances <= threshold).all():\n",
        "        return True\n",
        "    return False"
      ],
      "execution_count": 44,
      "outputs": []
    },
    {
      "cell_type": "markdown",
      "metadata": {
        "id": "UrKANz_24Jpx"
      },
      "source": [
        "Use function update_centroid to update the new positions for the current centroids based on the position of their members."
      ]
    },
    {
      "cell_type": "code",
      "metadata": {
        "id": "dlUz6nZc4OUc"
      },
      "source": [
        "# centroids: a list of centers\n",
        "# clusters: a list of k elements. Each element i-th is a list of data points that are assigned to center i-th\n",
        "def update_centroids(centroids, clusters):\n",
        "    assert(len(centroids) == len(clusters))\n",
        "    clusters = np.array(clusters)\n",
        "    for i, cluster in enumerate(clusters):\n",
        "        centroids[i] = sum(cluster)/len(cluster)\n",
        "    return centroids"
      ],
      "execution_count": 45,
      "outputs": []
    },
    {
      "cell_type": "markdown",
      "metadata": {
        "id": "_MYCN5Oq4RBX"
      },
      "source": [
        "Use the K-means algorithm scheleton below, with the functions you wrote above."
      ]
    },
    {
      "cell_type": "code",
      "metadata": {
        "id": "orJc7WcP4ULj"
      },
      "source": [
        "# data : set of data points\n",
        "# k : number of clusters\n",
        "# centroids: initial list of centroids\n",
        "def kmeans(data, k=2, centroids=None):\n",
        "    \n",
        "    data = np.array(data)\n",
        "    # randomize the centroids if they are not given\n",
        "    if not centroids:\n",
        "        centroids = randomize_centroids(data, k)\n",
        "\n",
        "    old_centroids = centroids[:]\n",
        "\n",
        "    iterations = 0\n",
        "    while True:\n",
        "        iterations += 1\n",
        "\n",
        "        # init empty clusters\n",
        "        clusters = [[] for i in range(k)]\n",
        "\n",
        "        # assign each data point to the closest centroid\n",
        "        for datapoint in data:\n",
        "            # find the closest center of each data point\n",
        "            centroid_idx = find_closest_centroid(datapoint, centroids)\n",
        "            \n",
        "            # assign datapoint to the closest cluster\n",
        "            clusters[centroid_idx].append(datapoint)\n",
        "        \n",
        "        # keep the current position of centroids before changing them\n",
        "        old_centroids = centroids[:]\n",
        "        \n",
        "        # update centroids\n",
        "        centroids = update_centroids(centroids, clusters)\n",
        "        \n",
        "        # if the stop criteria are met, stop the algorithm\n",
        "        if check_converge(centroids, old_centroids, iterations):\n",
        "            break\n",
        "    \n",
        "    return centroids"
      ],
      "execution_count": 46,
      "outputs": []
    },
    {
      "cell_type": "markdown",
      "metadata": {
        "id": "8L1fC-f5BcH6"
      },
      "source": [
        "Next, we will test our algorithm on [Fisher's Iris dataset](http://en.wikipedia.org/wiki/Iris_flower_data_set), and plot the resulting clusters in 3D."
      ]
    },
    {
      "cell_type": "code",
      "metadata": {
        "colab": {
          "base_uri": "https://localhost:8080/",
          "height": 661
        },
        "id": "ch88HSH-Bmiu",
        "outputId": "cbaa89a0-262c-4305-d240-4bd262dd5b14"
      },
      "source": [
        "# the sourcecode in this cell is inspired from \n",
        "# https://gist.github.com/bbarrilleaux/9841297\n",
        "\n",
        "%matplotlib inline\n",
        "\n",
        "from sklearn import datasets, cluster\n",
        "import numpy as np\n",
        "import matplotlib.pyplot as plt\n",
        "from mpl_toolkits.mplot3d import Axes3D\n",
        "\n",
        "\n",
        "# load data\n",
        "iris = datasets.load_iris()\n",
        "X_iris = iris.data\n",
        "y_iris = iris.target\n",
        "# do the clustering\n",
        "centers = kmeans(X_iris, k=3)\n",
        "labels = [find_closest_centroid(p, centers) for p in X_iris]\n",
        "\n",
        "#plot the clusters in color\n",
        "fig = plt.figure(1, figsize=(8, 8))\n",
        "plt.clf()\n",
        "ax = Axes3D(fig, rect=[0, 0, 1, 1], elev=8, azim=200)\n",
        "plt.cla()\n",
        "ax.scatter(X_iris[:, 3], X_iris[:, 0], X_iris[:, 2], c=labels)\n",
        "\n",
        "# moon\n",
        "# np.random.seed(0)\n",
        "# X, y = datasets.make_moons(2000, noise=0.2)\n",
        "\n",
        "# blob\n",
        "# np.random.seed(0)\n",
        "# X, y = datasets.make_blobs(n_samples=2000, centers=3, n_features=20, random_state=0)\n",
        "\n",
        "# centers = kmeans(X, k=3)\n",
        "# labels = [find_closest_centroid(p, centers) for p in X]\n",
        "\n",
        "# fig = plt.figure(1, figsize=(8, 8))\n",
        "# plt.clf()\n",
        "# plt.scatter(X[:,0], X[:,1], s=40, c=labels, cmap=plt.cm.Spectral)\n",
        "\n",
        "ax.w_xaxis.set_ticklabels([])\n",
        "ax.w_yaxis.set_ticklabels([])\n",
        "ax.w_zaxis.set_ticklabels([])\n",
        "ax.set_xlabel('Petal width')\n",
        "ax.set_ylabel('Sepal length')\n",
        "ax.set_zlabel('Petal length')\n",
        "\n",
        "plt.show()\n",
        "\n",
        "# Here we use sci-kit learn implementation of K-means\n",
        "# centers =cluster.KMeans(n_clusters=3)\n",
        "# centers.fit(X_iris) \n",
        "# labels = centers2.labels_"
      ],
      "execution_count": 47,
      "outputs": [
        {
          "output_type": "stream",
          "name": "stderr",
          "text": [
            "/usr/local/lib/python3.7/dist-packages/ipykernel_launcher.py:5: VisibleDeprecationWarning: Creating an ndarray from ragged nested sequences (which is a list-or-tuple of lists-or-tuples-or ndarrays with different lengths or shapes) is deprecated. If you meant to do this, you must specify 'dtype=object' when creating the ndarray\n",
            "  \"\"\"\n"
          ]
        },
        {
          "output_type": "display_data",
          "data": {
            "image/png": "[encoded data removed]",
            "text/plain": [
              "<Figure size 576x576 with 1 Axes>"
            ]
          },
          "metadata": {
            "needs_background": "light"
          }
        }
      ]
    },
    {
      "cell_type": "markdown",
      "metadata": {
        "id": "WIiJpgfT5LTi"
      },
      "source": [
        "# **2. Usecase: Network Intrusion**\n",
        "Some attacks attempt to flood a computer with network traffic. In some other cases, attacks attempt to exploit flaws in networking software in order to gain unauthorized access to a computer. Detecting an exploit in an incredibly large haystack of network requests is not easy.\n",
        "\n",
        "Some exploit behaviors follow known patterns such as scanning every port in a short of time, sending a burst of request to a port... However, the biggest threat may be the one that has never been detected and classified yet. Part of detecting potential network intrusions is detecting anomalies. These are connections that aren't known to be attacks, but, do not resemble connections that have been observed in the past.\n",
        "\n",
        "In this notebook, K-means is used to detect anomalous network connections based on statistics about each of them.\n",
        "\n",
        "# **2.1. Data**\n",
        "The data comes from [KDD Cup 1999](http://kdd.ics.uci.edu/databases/kddcup99/kddcup99.html). The dataset is about 708MB and contains about 4.9M connections. For each connection, the data set contains information like the number of bytes sent, login attempts, TCP errors, and so on. Each connection is one line of CSV-formatted data, containing 38 features: back, buffer_overflow, ftp_write, guess_passwd, imap, ipsweep, land, loadmodule, multihop, neptune, nmap, normal, perl, phf, pod, portsweep, rootkit, satan, smurf, spy, teardrop, warezclient, warezmaster. For more details about each features, please follow this [link](http://kdd.ics.uci.edu/databases/kddcup99/kddcup99.html).\n",
        "\n",
        "Many features take on the value 0 or 1, indicating the presence or absence of a behavior such as su_attempted in the 15th column. Some features are counts, like num_file_creations in the 17th columns. Some others are the number of sent and received bytes."
      ]
    },
    {
      "cell_type": "markdown",
      "metadata": {
        "id": "8yS28LE75fEB"
      },
      "source": [
        "# **2.2. Clustering without using categorical features**\n",
        "First, we need to import some packages that are used in this notebook."
      ]
    },
    {
      "cell_type": "code",
      "metadata": {
        "id": "sCdvvLu_UfoM"
      },
      "source": [
        "!apt-get install openjdk-8-jdk-headless -qq > /dev/null\n",
        "!wget -q https://downloads.apache.org/spark/spark-2.4.8/spark-2.4.8-bin-hadoop2.7.tgz\n",
        "!tar xf spark-2.4.8-bin-hadoop2.7.tgz\n",
        "!pip install -q findspark"
      ],
      "execution_count": 48,
      "outputs": []
    },
    {
      "cell_type": "code",
      "metadata": {
        "id": "n6EURi_4WIze"
      },
      "source": [
        "import os\n",
        "os.environ[\"JAVA_HOME\"] = \"/usr/lib/jvm/java-8-openjdk-amd64\"\n",
        "os.environ[\"SPARK_HOME\"] = \"/content/spark-2.4.8-bin-hadoop2.7\"\n",
        "\n",
        "import findspark\n",
        "findspark.init()\n",
        "from pyspark.sql import SparkSession\n",
        "spark = SparkSession.builder.master(\"local[*]\").getOrCreate()"
      ],
      "execution_count": 49,
      "outputs": []
    },
    {
      "cell_type": "code",
      "metadata": {
        "colab": {
          "base_uri": "https://localhost:8080/"
        },
        "id": "KLMQ-NxwBtiy",
        "outputId": "ba628dee-d018-443f-d3fd-e8ec72d985e0"
      },
      "source": [
        "from google.colab import drive\n",
        "drive.mount('/content/drive')"
      ],
      "execution_count": 50,
      "outputs": [
        {
          "output_type": "stream",
          "name": "stdout",
          "text": [
            "Drive already mounted at /content/drive; to attempt to forcibly remount, call drive.mount(\"/content/drive\", force_remount=True).\n"
          ]
        }
      ]
    },
    {
      "cell_type": "code",
      "metadata": {
        "id": "fjhYt5hl5jhn"
      },
      "source": [
        "import os\n",
        "import sys\n",
        "import re\n",
        "import time\n",
        "from pyspark import SparkContext\n",
        "from pyspark import SparkContext\n",
        "from pyspark.sql import SQLContext\n",
        "from pyspark.sql.types import *\n",
        "from pyspark.sql import Row\n",
        "# from pyspark.sql.functions import *\n",
        "%matplotlib inline\n",
        "import matplotlib.pyplot as plt\n",
        "import pandas as pd\n",
        "import numpy as np\n",
        "import pyspark.sql.functions as func\n",
        "import matplotlib.patches as mpatches\n",
        "from operator import add\n",
        "from pyspark.mllib.clustering import KMeans, KMeansModel\n",
        "from operator import add\n",
        "from pyspark.mllib.tree import DecisionTree, DecisionTreeModel\n",
        "from pyspark.mllib.util import MLUtils\n",
        "from pyspark.mllib.regression import LabeledPoint\n",
        "import itertools\n",
        "sc = SparkContext.getOrCreate()\n",
        "\n",
        "input_path = \"/content/drive/MyDrive/kddcup.data.corrected\"\n",
        "raw_data = sc.textFile(input_path, 12)"
      ],
      "execution_count": 51,
      "outputs": []
    },
    {
      "cell_type": "markdown",
      "metadata": {
        "id": "1v1SG-iL5w0y"
      },
      "source": [
        "\n",
        "# **2.2.1. Loading data**\n",
        "There are two types of features: numerical features and categorical features. Currently, to get familiar with the data and the problem, we only use numerical features. In our data, we also have pre-defined groups for each connection, which we can use later as our \"ground truth\" for verifying our results.\n",
        "\n",
        "**Note 1:** we don't use the labels in the training phase !!!\n",
        "\n",
        "**Note 2:** in general, since clustering is un-supervised, you don't have access to ground truth. For this reason, several metrics to judge the quality of clustering have been devised. For a short overview of such metrics, follow this [link](https://en.wikipedia.org/wiki/Cluster_analysis#Internal_evaluation). Note that computing such metrics, that is trying to assess the quality of your clustering results, is as computationally intensive as computing the clustering itself!"
      ]
    },
    {
      "cell_type": "markdown",
      "metadata": {
        "id": "FS3iz8If6GJ0"
      },
      "source": [
        "# **Question 1**\n",
        "Write function parseLine to construct a tuple of (label, vector) for each connection, extract the data that contains only the data points (without label), then print the number of connections.\n",
        "\n",
        "Where,\n",
        "\n",
        "* label is the pre-defined label of each connection\n",
        "* vector is a numpy array that contains values of all features, but the label and the categorial features at index 1,2,3 of each connection. Each vector is a data point."
      ]
    },
    {
      "cell_type": "code",
      "metadata": {
        "id": "knYPoqA76QD6"
      },
      "source": [
        "def parseLine(line):\n",
        "    line_split = line.split(\",\")\n",
        "    clean_line_split = [line_split[0]]+line_split[4:-1]\n",
        "    return (line_split[-1], np.array([float(x) for x in clean_line_split]))\n",
        "\n",
        "parsed_data = raw_data.map(parseLine)\n",
        "parsed_data_values = parsed_data.values().cache()"
      ],
      "execution_count": 63,
      "outputs": []
    },
    {
      "cell_type": "code",
      "metadata": {
        "id": "S3i5W4tHCTT-",
        "colab": {
          "base_uri": "https://localhost:8080/"
        },
        "outputId": "3bf20dba-5038-4ce1-9a81-753bb960f127"
      },
      "source": [
        "parsed_data.first()"
      ],
      "execution_count": 64,
      "outputs": [
        {
          "output_type": "execute_result",
          "data": {
            "text/plain": [
              "('normal.', array([0.0000e+00, 2.1500e+02, 4.5076e+04, 0.0000e+00, 0.0000e+00,\n",
              "        0.0000e+00, 0.0000e+00, 0.0000e+00, 1.0000e+00, 0.0000e+00,\n",
              "        0.0000e+00, 0.0000e+00, 0.0000e+00, 0.0000e+00, 0.0000e+00,\n",
              "        0.0000e+00, 0.0000e+00, 0.0000e+00, 0.0000e+00, 1.0000e+00,\n",
              "        1.0000e+00, 0.0000e+00, 0.0000e+00, 0.0000e+00, 0.0000e+00,\n",
              "        1.0000e+00, 0.0000e+00, 0.0000e+00, 0.0000e+00, 0.0000e+00,\n",
              "        0.0000e+00, 0.0000e+00, 0.0000e+00, 0.0000e+00, 0.0000e+00,\n",
              "        0.0000e+00, 0.0000e+00, 0.0000e+00]))"
            ]
          },
          "metadata": {},
          "execution_count": 64
        }
      ]
    },
    {
      "cell_type": "markdown",
      "metadata": {
        "id": "6ZDpco1v6UVy"
      },
      "source": [
        "# **Question 2**\n",
        "Using K-means algorithm of MLLIB, cluster the connections into two groups then plot the result. Why two groups? In this case, we are just warming up, we're testing things around, so \"two groups\" has no particular meaning.\n",
        "\n",
        "You can use the following parameters:\n",
        "\n",
        "* maxIterations=10\n",
        "* runs=10\n",
        "* initializationMode=\"random\"\n",
        "Discuss the result from your figure."
      ]
    },
    {
      "cell_type": "code",
      "metadata": {
        "colab": {
          "base_uri": "https://localhost:8080/"
        },
        "id": "3kdG4sMv8eYF",
        "outputId": "30cebe92-cef4-405d-dc47-8398598f1865"
      },
      "source": [
        "clusters = KMeans.train(parsed_data_values, 2, maxIterations=10, runs=10, initializationMode=\"random\")"
      ],
      "execution_count": 65,
      "outputs": [
        {
          "output_type": "stream",
          "name": "stderr",
          "text": [
            "/content/spark-2.4.8-bin-hadoop2.7/python/pyspark/mllib/clustering.py:347: UserWarning: The param `runs` has no effect since Spark 2.0.0.\n",
            "  warnings.warn(\"The param `runs` has no effect since Spark 2.0.0.\")\n"
          ]
        }
      ]
    },
    {
      "cell_type": "markdown",
      "metadata": {
        "id": "TLvdPHfJ8e8y"
      },
      "source": [
        "One of the simplest method to evaluate our result is calculate the Within Set Sum of Squared Errors (WSSSE), or simply, 'Sum of Squared Errors'. An error of a data point is defined as it's distance to the closest cluster center. \n",
        "We will now use a version of euclidean_distance that assumes the arguments to be numpy arrays, which is really faster, it will come to be useful because this function will be use several million times."
      ]
    },
    {
      "cell_type": "code",
      "metadata": {
        "id": "ymbwIzGN8q-D"
      },
      "source": [
        "def euclidean_distance(a, b):\n",
        "    c = a - b\n",
        "    return np.sqrt(c.T.dot(c))"
      ],
      "execution_count": 66,
      "outputs": []
    },
    {
      "cell_type": "code",
      "metadata": {
        "id": "llV2WcwZ8r1C",
        "colab": {
          "base_uri": "https://localhost:8080/"
        },
        "outputId": "c32bbb9a-0104-46bc-a541-22ff57977fd5"
      },
      "source": [
        "from operator import add\n",
        "t1 = time.time()\n",
        "# Evaluate clustering by computing Within Set Sum of Squared Errors\n",
        "def error(clusters, point):\n",
        "    closest_center = clusters.centers[clusters.predict(point)]\n",
        "    return euclidean_distance(closest_center, point)**2\n",
        "\n",
        "WSSSE = parsed_data_values.map(lambda point: error(clusters, point)).reduce(add)\n",
        "print(\"Within Set Sum of Squared Error = \" + str(WSSSE))\n",
        "print(time.time() - t1)"
      ],
      "execution_count": 67,
      "outputs": [
        {
          "output_type": "stream",
          "name": "stdout",
          "text": [
            "Within Set Sum of Squared Error = 6.379373214570625e+18\n",
            "167.63729548454285\n"
          ]
        }
      ]
    },
    {
      "cell_type": "markdown",
      "metadata": {
        "id": "lmlN2FMK83cx"
      },
      "source": [
        "# **Question 3**\n",
        "This is a good opportunity to use the given labels to get an intuitive sense of what went into these two clusters, by counting the labels within each cluster. Use the following code that uses the model to assign each data point to a cluster, and counts occurrences of cluster and label pairs. What do you think about the result ?"
      ]
    },
    {
      "cell_type": "code",
      "metadata": {
        "id": "q5vVFp0789UI",
        "colab": {
          "base_uri": "https://localhost:8080/"
        },
        "outputId": "1289de56-3d9e-4fa9-b9e0-bdbe17be1179"
      },
      "source": [
        "clusterLabelCount = parsed_data.map(lambda row: ((clusters.predict(row[1]), row[0]), 1)).reduceByKey(add)\n",
        "\n",
        "for item in clusterLabelCount.collect():\n",
        "    print(item)"
      ],
      "execution_count": 68,
      "outputs": [
        {
          "output_type": "stream",
          "name": "stdout",
          "text": [
            "((0, 'normal.'), 115306)\n",
            "((0, 'back.'), 2203)\n",
            "((0, 'neptune.'), 1)\n",
            "((0, 'portsweep.'), 10)\n",
            "((0, 'warezclient.'), 123)\n",
            "((1, 'buffer_overflow.'), 30)\n",
            "((1, 'nmap.'), 2316)\n",
            "((0, 'satan.'), 7)\n",
            "((1, 'guess_passwd.'), 53)\n",
            "((1, 'teardrop.'), 979)\n",
            "((1, 'spy.'), 2)\n",
            "((1, 'phf.'), 4)\n",
            "((0, 'multihop.'), 1)\n",
            "((1, 'rootkit.'), 10)\n",
            "((1, 'ftp_write.'), 6)\n",
            "((1, 'satan.'), 15885)\n",
            "((0, 'ftp_write.'), 2)\n",
            "((1, 'warezmaster.'), 20)\n",
            "((1, 'neptune.'), 1072016)\n",
            "((0, 'pod.'), 264)\n",
            "((1, 'ipsweep.'), 12481)\n",
            "((1, 'land.'), 21)\n",
            "((1, 'normal.'), 857475)\n",
            "((1, 'multihop.'), 6)\n",
            "((0, 'smurf.'), 2807886)\n",
            "((1, 'imap.'), 11)\n",
            "((1, 'portsweep.'), 10403)\n",
            "((1, 'loadmodule.'), 9)\n",
            "((0, 'imap.'), 1)\n",
            "((1, 'perl.'), 3)\n",
            "((1, 'warezclient.'), 897)\n"
          ]
        }
      ]
    },
    {
      "cell_type": "markdown",
      "metadata": {
        "id": "5YDrkZ_f9AT0"
      },
      "source": [
        "Cluster 0 has high data and cluster 1 has low data. We see that the data is unevenly distributed when using the two clusters."
      ]
    },
    {
      "cell_type": "markdown",
      "metadata": {
        "id": "rfPEd5Lm9DWe"
      },
      "source": [
        "# **2.2.4. Choosing K**\n",
        "How many clusters are appropriate for a dataset? In particular, for our own dataset, it's clear that there are 23 distinct behavior patterns in the data, so it seems that k could be at least 23, or likely, even more. In other cases, we even don't have any information about the number of patterns at all (remember, generally your data is not labelled!). Our task now is finding a good value of  k . For doing that, we have to build and evaluate models with different values of  k . A clustering could be considered good if each data point were near to its closest centroid. One of the ways to evaluate a model is calculating the Mean of Squared Errors of all data points."
      ]
    },
    {
      "cell_type": "markdown",
      "metadata": {
        "id": "alINfoNB9Rc7"
      },
      "source": [
        "# **Question 4**\n",
        "Use the function below to calculate the MSE of each model that is corresponding to each value of  k . Plot the results. From the obtained result, what is the best value for  k  ? Why ?"
      ]
    },
    {
      "cell_type": "code",
      "metadata": {
        "id": "p5syyYMf9Vyj",
        "colab": {
          "base_uri": "https://localhost:8080/",
          "height": 460
        },
        "outputId": "b227814a-821c-46f4-b30d-11a1506a4fa7"
      },
      "source": [
        "# k: the number of clusters\n",
        "k_range = range(5, 126, 20)\n",
        "\n",
        "def clusteringScore(data, k):\n",
        "    clusters = KMeans.train(data, k, maxIterations=10, runs=10, initializationMode=\"random\")\n",
        "    # calculate mean square error\n",
        "    WSSSE = data.map(lambda point: error(clusters, point)).reduce(add)\n",
        "    #WSSSE = clusters.computeCost(data)\n",
        "    return WSSSE\n",
        "\n",
        "scores = [clusteringScore(parsed_data_values, k) for k in k_range]\n",
        "for score in scores:\n",
        "    print(score)\n",
        "    \n",
        "# plot results\n",
        "plt.scatter(k_range, scores)\n",
        "plt.plot(k_range, scores)\n",
        "plt.xlabel('k')\n",
        "plt.ylabel('clustering score')"
      ],
      "execution_count": 69,
      "outputs": [
        {
          "output_type": "stream",
          "name": "stderr",
          "text": [
            "/content/spark-2.4.8-bin-hadoop2.7/python/pyspark/mllib/clustering.py:347: UserWarning: The param `runs` has no effect since Spark 2.0.0.\n",
            "  warnings.warn(\"The param `runs` has no effect since Spark 2.0.0.\")\n"
          ]
        },
        {
          "output_type": "stream",
          "name": "stdout",
          "text": [
            "1.1650557472403098e+18\n",
            "9.664139619867834e+17\n",
            "9.908406181177216e+17\n",
            "9.660257217369508e+17\n",
            "9.660221933222931e+17\n",
            "9.660172218827762e+17\n",
            "9.659942158283653e+17\n"
          ]
        },
        {
          "output_type": "execute_result",
          "data": {
            "text/plain": [
              "Text(0, 0.5, 'clustering score')"
            ]
          },
          "metadata": {},
          "execution_count": 69
        },
        {
          "output_type": "display_data",
          "data": {
            "image/png": "[encoded data removed]",
            "text/plain": [
              "<Figure size 432x288 with 1 Axes>"
            ]
          },
          "metadata": {
            "needs_background": "light"
          }
        }
      ]
    },
    {
      "cell_type": "markdown",
      "metadata": {
        "id": "J0Imqbdq9cMQ"
      },
      "source": [
        "**Answer :** In the above plot diagram, we can see that clustering score decresed at k = 64. After that no more decreses on clustering score. So that, we can say at k = 64 is the good one."
      ]
    },
    {
      "cell_type": "markdown",
      "metadata": {
        "id": "vwM5hPwo9e4g"
      },
      "source": [
        "# **2.2.5 Normalizing features**\n",
        "K-means clustering treats equally all dimensions/directions of the space and therefore tends to produce more or less spherical (rather than elongated) clusters. In this situation, leaving variances uneven is equivalent to putting more weight on variables with smaller variance, so clusters will tend to be separated along variables with greater variance.\n",
        "\n",
        "In our notebook, since Euclidean distance is used, the clusters will be influenced strongly by the magnitudes of the variables, especially by outliers. Normalizing will remove this bias.\n",
        "\n",
        "Each feature can be normalized by converting it to a standard score. This means subtracting the mean of the feature’s values from each value, and dividing by the standard deviation\n",
        "\\begin{align}\n",
        "normalize_i=\\frac{feature_i - \\mu_i}{\\sigma_i}\n",
        "\\end{align}\n",
        "Where,\n",
        "* $normalize_i$  is the normalized value of feature $i$ \n",
        "* $\\mu_i$ is the mean of feature $i$ \n",
        "* $\\sigma_i$ is the standard deviation of feature $i$"
      ]
    },
    {
      "cell_type": "markdown",
      "metadata": {
        "id": "2VhRGrrX-ebI"
      },
      "source": [
        "# **Question 5**\n",
        "Complete the code below to normalize the data. Print the first 5 lines of the new data.\n",
        "\n",
        "HINT: If $\\sigma_i=0$ then ${normalize}_i = {feature}_i−\\mu_i$"
      ]
    },
    {
      "cell_type": "code",
      "metadata": {
        "id": "1-MRHR1C-uv8",
        "colab": {
          "base_uri": "https://localhost:8080/"
        },
        "outputId": "c292741d-7eda-4912-f2a0-795ab7f71351"
      },
      "source": [
        "def normalizeData(data):\n",
        "    # number of connections\n",
        "    n = data.count()\n",
        "    # your code #\n",
        "    means = data.map(lambda x:x[1]).mean()\n",
        "    stdevs = np.sqrt(data.map(lambda x : (x[1]-means)**2).mean())\n",
        "\n",
        "    def normalize(point):\n",
        "        return (point - means) / stdevs\n",
        "    return data.map(normalize)\n",
        "\n",
        "normalizedData = normalizeData(parsed_data_values).cache()\n",
        "print(normalizedData.take(2))"
      ],
      "execution_count": 71,
      "outputs": [
        {
          "output_type": "stream",
          "name": "stdout",
          "text": [
            "[array([-0.00194876, -0.00172038,  0.04593154, -0.00194876, -0.00194876,\n",
            "       -0.00194876, -0.00194876, -0.00194876, -0.0019477 , -0.00194876,\n",
            "       -0.00194876, -0.00194876, -0.00194876, -0.00194876, -0.00194876,\n",
            "       -0.00194876, -0.00194876, -0.00194876, -0.00194876, -0.0019477 ,\n",
            "       -0.0019477 , -0.00194876, -0.00194876, -0.00194876, -0.00194876,\n",
            "       -0.0019477 , -0.00194876, -0.00194876, -0.00194876, -0.00194876,\n",
            "       -0.00194876, -0.00194876, -0.00194876, -0.00194876, -0.00194876,\n",
            "       -0.00194876, -0.00194876, -0.00194876]), array([-0.00194876, -0.00177668,  0.00286094, -0.00194876, -0.00194876,\n",
            "       -0.00194876, -0.00194876, -0.00194876, -0.0019477 , -0.00194876,\n",
            "       -0.00194876, -0.00194876, -0.00194876, -0.00194876, -0.00194876,\n",
            "       -0.00194876, -0.00194876, -0.00194876, -0.00194876, -0.00194663,\n",
            "       -0.00194663, -0.00194876, -0.00194876, -0.00194876, -0.00194876,\n",
            "       -0.0019477 , -0.00194876, -0.00194876, -0.0019477 , -0.0019477 ,\n",
            "       -0.0019477 , -0.00194876, -0.0019477 , -0.00194876, -0.00194876,\n",
            "       -0.00194876, -0.00194876, -0.00194876])]\n"
          ]
        }
      ]
    },
    {
      "cell_type": "markdown",
      "metadata": {
        "id": "pYUvACr4-2hC"
      },
      "source": [
        "# **Question 6**\n",
        "Using the new data, build different models with different values of $k\\in [60,70,80,90,100,110]$ . Evaluate the results by plotting them and choose the best value of $k$."
      ]
    },
    {
      "cell_type": "code",
      "metadata": {
        "id": "-N-i6KiD_E4Y",
        "colab": {
          "base_uri": "https://localhost:8080/",
          "height": 443
        },
        "outputId": "ba56bbd7-3a63-4d65-df94-3255beda6b3b"
      },
      "source": [
        "k_range = [60,70,80,90,100,110]\n",
        "\n",
        "def clusteringScore(data, k):\n",
        "    clusters = KMeans.train(data, k, maxIterations=10, runs=10, initializationMode=\"random\")\n",
        "    # calculate mean square error\n",
        "    WSSSE = data.map(lambda point: error(clusters, point)).reduce(add)\n",
        "    #WSSSE = clusters.computeCost(data)\n",
        "    return WSSSE\n",
        "\n",
        "scores = [clusteringScore(normalizedData, k) for k in k_range]\n",
        "for score in scores:\n",
        "    print(score)\n",
        "    \n",
        "# plot results\n",
        "plt.scatter(k_range, scores)\n",
        "plt.xlabel('k')\n",
        "plt.ylabel('clustering score')"
      ],
      "execution_count": 72,
      "outputs": [
        {
          "output_type": "stream",
          "name": "stderr",
          "text": [
            "/content/spark-2.4.8-bin-hadoop2.7/python/pyspark/mllib/clustering.py:347: UserWarning: The param `runs` has no effect since Spark 2.0.0.\n",
            "  warnings.warn(\"The param `runs` has no effect since Spark 2.0.0.\")\n"
          ]
        },
        {
          "output_type": "stream",
          "name": "stdout",
          "text": [
            "1089940.851989136\n",
            "1117554.2122115174\n",
            "1117681.539954817\n",
            "1089964.3766035861\n",
            "1117578.2958262707\n",
            "1117557.6519912493\n"
          ]
        },
        {
          "output_type": "execute_result",
          "data": {
            "text/plain": [
              "Text(0, 0.5, 'clustering score')"
            ]
          },
          "metadata": {},
          "execution_count": 72
        },
        {
          "output_type": "display_data",
          "data": {
            "image/png": "[encoded data removed]",
            "text/plain": [
              "<Figure size 432x288 with 1 Axes>"
            ]
          },
          "metadata": {
            "needs_background": "light"
          }
        }
      ]
    },
    {
      "cell_type": "markdown",
      "metadata": {
        "id": "7I4zU04i_GcG"
      },
      "source": [
        "**Answer :** In the above plot diagram, we can see that clustering score decresed at k = 90. After that no more decreses on clustering score. So that, we can say at k = 90 is the good one."
      ]
    },
    {
      "cell_type": "markdown",
      "metadata": {
        "id": "MBOcSlxe_MDY"
      },
      "source": [
        "# **Question 7**\n",
        "Plot the clustering result to see the difference between before and after normalizing features. Discuss about the difference and explain why and if normalization was useful."
      ]
    },
    {
      "cell_type": "code",
      "metadata": {
        "id": "22LKjlJO_QIm",
        "colab": {
          "base_uri": "https://localhost:8080/"
        },
        "outputId": "6cd5f132-f71d-440f-ea3d-37e12b836be5"
      },
      "source": [
        "clustering_Result = KMeans.train(normalizedData, k=90, maxIterations=10, runs=10, initializationMode=\"random\")"
      ],
      "execution_count": 75,
      "outputs": [
        {
          "output_type": "stream",
          "name": "stderr",
          "text": [
            "/content/spark-2.4.8-bin-hadoop2.7/python/pyspark/mllib/clustering.py:347: UserWarning: The param `runs` has no effect since Spark 2.0.0.\n",
            "  warnings.warn(\"The param `runs` has no effect since Spark 2.0.0.\")\n"
          ]
        }
      ]
    },
    {
      "cell_type": "code",
      "metadata": {
        "id": "7nZowNSDUK7W"
      },
      "source": [
        "Data = normalizedData.sample(withReplacement=False, fraction=0.01)\n",
        "X = Data.map(lambda x: x[0]).collect()\n",
        "Y = Data.map(lambda x: x[1]).collect()\n",
        "Z = Data.map(lambda x: x[2]).collect()\n",
        "labels = Data.map(lambda x: clustering_Result.predict(x)).collect()"
      ],
      "execution_count": 76,
      "outputs": []
    },
    {
      "cell_type": "code",
      "metadata": {
        "colab": {
          "base_uri": "https://localhost:8080/",
          "height": 319
        },
        "id": "lJqlCeyPZ-Cp",
        "outputId": "54b11706-2910-4dcd-ff5b-64e72a144653"
      },
      "source": [
        "fig = plt.figure(1, figsize=(4, 4))\n",
        "axis = Axes3D(fig)"
      ],
      "execution_count": 112,
      "outputs": [
        {
          "output_type": "display_data",
          "data": {
            "image/png": "[encoded data removed]",
            "text/plain": [
              "<Figure size 288x288 with 1 Axes>"
            ]
          },
          "metadata": {
            "needs_background": "light"
          }
        }
      ]
    },
    {
      "cell_type": "code",
      "metadata": {
        "colab": {
          "base_uri": "https://localhost:8080/",
          "height": 336
        },
        "id": "0h15OKSGZ-SG",
        "outputId": "101fca34-48e3-47d1-d21a-9881bcf13d01"
      },
      "source": [
        "fig = plt.figure(1, figsize=(4, 4))\n",
        "axis = Axes3D(fig)\n",
        "\n",
        "axis.scatter(X, Y, Z, c=labels)\n",
        "axis.w_xaxis.set_ticklabels([])\n",
        "axis.w_yaxis.set_ticklabels([])\n",
        "axis.w_zaxis.set_ticklabels([])\n",
        "axis.set_xlabel(' feature_1 ')\n",
        "axis.set_ylabel(' feature_2')\n",
        "axis.set_zlabel(' feature_3')"
      ],
      "execution_count": 113,
      "outputs": [
        {
          "output_type": "execute_result",
          "data": {
            "text/plain": [
              "Text(0.5, 0, ' feature_3')"
            ]
          },
          "metadata": {},
          "execution_count": 113
        },
        {
          "output_type": "display_data",
          "data": {
            "image/png": "[encoded data removed]",
            "text/plain": [
              "<Figure size 288x288 with 1 Axes>"
            ]
          },
          "metadata": {
            "needs_background": "light"
          }
        }
      ]
    },
    {
      "cell_type": "markdown",
      "metadata": {
        "id": "RUBUCUn8_Qa1"
      },
      "source": [
        ""
      ]
    },
    {
      "cell_type": "markdown",
      "metadata": {
        "id": "zdxMuLMw_TaO"
      },
      "source": [
        "# **2.3. Clustering using categorical features**\n",
        "# **2.3.1 Loading data**\n",
        "In the previous section, we ignored the categorical features of our data: this is not a good idea, since these categorical features can be important in providing useful information for clustering. The problem is that K-means (or at least, the one we have developed and the one we use from MLLib) only work with data points in a metric space. Informally, this means that operations such as addition, substraction and computing the mean of data points are trivial and well defined. For a more formal definition of what a metric space is, follow this [link](https://en.wikipedia.org/wiki/Metric_space#Definition).\n",
        "\n",
        "What we will do next is to transform each categorical features into one or more numerical features. This approach is very widespread: imagine for example you wanted to use K-means to cluster text data. Then, the idea is to transform text data in  d -dimensional vectors, and a nice way to do it is to use [word2vec](http://deeplearning4j.org/word2vec). If you're interested, follow this link to a nice blog post on the problem.\n",
        "\n",
        "There are two approaches:\n",
        "\n",
        "* **Approach 1:** mapping one categorial feature to one numerical feature. The values in each categorical feature are encoded into unique numbers of the new numerical feature. For example, ['VERY HOT','HOT', 'COOL', 'COLD', 'VERY COLD'] will be encoded into [0,1,2,3,4,5]. However, by using this method, we implicit assume that the value of 'VERY HOT' is smaller than 'HOT'... This is not generally true.\n",
        "\n",
        "* Approach 2: mapping mapping one categorial feature to multiple numerical features. Basically, a single variable with  n  observations and  d  distinct values, to  d  binary variables with  n  observations each. Each observation indicating the presence (1) or absence (0) of the  dth  binary variable. For example, ['house', 'car', 'tooth', 'car'] becomes\n",
        "\\begin{align}\n",
        "[\n",
        "[1,0,0,0],\n",
        "[0,1,0,0],\n",
        "[0,0,1,0],\n",
        "[0,0,0,1],\n",
        "]\n",
        "\\end{align}\n",
        "We call the second approach \"one-hot encoding\". By using this approach, we keep the same role for all values of categorical features."
      ]
    },
    {
      "cell_type": "markdown",
      "metadata": {
        "id": "FEsKjMt__9Ad"
      },
      "source": [
        "# **Question 8**\n",
        "Calculate the number of distinct categorical features value (at index 1,2,3). Then construct a new input data using one-hot encoding for these categorical features (don't throw away numerical features!)."
      ]
    },
    {
      "cell_type": "code",
      "metadata": {
        "id": "a5AK5Jq_ACVf"
      },
      "source": [
        "## calculating the length of all the 3 features\n",
        "\n",
        "feature_1 = raw_data.map(lambda x : x.split(\",\")[1]).distinct().collect()\n",
        "feature_2 = raw_data.map(lambda x : x.split(\",\")[2]).distinct().collect()\n",
        "feature_3 = raw_data.map(lambda x : x.split(\",\")[3]).distinct().collect()"
      ],
      "execution_count": 115,
      "outputs": []
    },
    {
      "cell_type": "code",
      "metadata": {
        "colab": {
          "base_uri": "https://localhost:8080/"
        },
        "id": "aYeGx2R2dfeP",
        "outputId": "f65583c2-3d3a-46f5-cbec-48b57be6c09f"
      },
      "source": [
        "print(\"Feature_1:\", len(feature_1), feature_1)"
      ],
      "execution_count": 117,
      "outputs": [
        {
          "output_type": "stream",
          "name": "stdout",
          "text": [
            "Feature_1: 3 ['tcp', 'udp', 'icmp']\n"
          ]
        }
      ]
    },
    {
      "cell_type": "code",
      "metadata": {
        "colab": {
          "base_uri": "https://localhost:8080/"
        },
        "id": "fi5jjQ6ZepJq",
        "outputId": "28647ba3-c275-45c6-8de1-95a081f80554"
      },
      "source": [
        "print(\"Feature_2:\", len(feature_2), feature_2)"
      ],
      "execution_count": 120,
      "outputs": [
        {
          "output_type": "stream",
          "name": "stdout",
          "text": [
            "Feature_2: 70 ['time', 'courier', 'red_i', 'pop_3', 'smtp', 'ftp', 'login', 'http_443', 'IRC', 'bgp', 'link', 'shell', 'gopher', 'Z39_50', 'csnet_ns', 'eco_i', 'efs', 'name', 'rje', 'systat', 'pm_dump', 'tim_i', 'urh_i', 'uucp', 'tftp_u', 'whois', 'domain', 'remote_job', 'discard', 'sunrpc', 'aol', 'finger', 'ntp_u', 'other', 'ldap', 'echo', 'kshell', 'ctf', 'X11', 'sql_net', 'iso_tsap', 'ssh', 'nntp', 'hostnames', 'telnet', 'urp_i', 'mtp', 'netbios_dgm', 'klogin', 'http_2784', 'supdup', 'imap4', 'netbios_ssn', 'nnsp', 'netstat', 'domain_u', 'auth', 'private', 'exec', 'uucp_path', 'netbios_ns', 'harvest', 'http', 'ecr_i', 'ftp_data', 'vmnet', 'daytime', 'printer', 'pop_2', 'http_8001']\n"
          ]
        }
      ]
    },
    {
      "cell_type": "code",
      "metadata": {
        "colab": {
          "base_uri": "https://localhost:8080/"
        },
        "id": "8_ef2J-Xdfhp",
        "outputId": "c51d9f88-b486-499d-be61-39777da3ea00"
      },
      "source": [
        "print(\"Feature_3:\", len(feature_3), feature_3)"
      ],
      "execution_count": 121,
      "outputs": [
        {
          "output_type": "stream",
          "name": "stdout",
          "text": [
            "Feature_3: 11 ['OTH', 'S3', 'SF', 'REJ', 'RSTO', 'RSTOS0', 'SH', 'S2', 'S0', 'S1', 'RSTR']\n"
          ]
        }
      ]
    },
    {
      "cell_type": "markdown",
      "metadata": {
        "id": "nKOlIS6BADut"
      },
      "source": [
        "# **2.3.2. Building models**\n",
        "# **Question 9**\n",
        "Using the new data, cluster the connections with different values of $k\\in [80,90,100,110,120,130,140,150,160]$. Evaluate the results and choose the best value of  k  as previous questions."
      ]
    },
    {
      "cell_type": "code",
      "metadata": {
        "id": "FW6yVSB6AVMM",
        "colab": {
          "base_uri": "https://localhost:8080/"
        },
        "outputId": "411b17d1-2fe7-4267-c32d-50915af15f40"
      },
      "source": [
        "k_range = [80,90,100,110,120,130,140,150,160]\n",
        "\n",
        "def clusteringScore(data, k):\n",
        "    clusters = KMeans.train(data, k, maxIterations=10, runs=10, initializationMode=\"random\")\n",
        "    # calculate mean square error\n",
        "    WSSSE = data.map(lambda point: error(clusters, point)).reduce(add)\n",
        "    #WSSSE = clusters.computeCost(data)\n",
        "    return WSSSE\n",
        "\n",
        "scores = [clusteringScore(normalizedData, k) for k in k_range]\n",
        "for score in scores:\n",
        "    print(score)\n",
        "    \n",
        "plt.scatter(k_range, scores)\n",
        "plt.xlabel('k_value')\n",
        "plt.ylabel('clustering score')"
      ],
      "execution_count": null,
      "outputs": [
        {
          "output_type": "stream",
          "name": "stderr",
          "text": [
            "/content/spark-2.4.8-bin-hadoop2.7/python/pyspark/mllib/clustering.py:347: UserWarning: The param `runs` has no effect since Spark 2.0.0.\n",
            "  warnings.warn(\"The param `runs` has no effect since Spark 2.0.0.\")\n"
          ]
        }
      ]
    },
    {
      "cell_type": "markdown",
      "metadata": {
        "id": "8aohxU0oAVp7"
      },
      "source": [
        "\n",
        "Your comments\n",
        "\n"
      ]
    },
    {
      "cell_type": "markdown",
      "metadata": {
        "id": "BKTxsr0jAXbz"
      },
      "source": [
        "# **2.4. Anomaly detection**\n",
        "When we have a new connection data (e.g., one that we never saw before), we simply find the closest cluster for it, and use this information as a proxy to indicate whether the data point is anomalous or not. A simple approach to decide wheter there is an anomaly or not, amounts to measuring the new data point’s distance to its nearest centroid. If this distance exceeds some thresholds, it is anomalous."
      ]
    },
    {
      "cell_type": "markdown",
      "metadata": {
        "id": "kbIY1FvNAiyn"
      },
      "source": [
        "# **Question 10**\n",
        "Build your model with the best value of $k$ in your opinion. Then, detect the anomalous connections in our data. Plot and discuss your result.\n",
        "\n",
        "HINT: The threshold has strong impact on the result. Be careful when choosing it! A simple way to choose the threshold's value is picking up a distance of a data point from among known data. For example, the 100th-farthest data point distance can be an option."
      ]
    },
    {
      "cell_type": "code",
      "metadata": {
        "id": "kCBvMiNUAyKG"
      },
      "source": [
        "#Your code"
      ],
      "execution_count": null,
      "outputs": []
    },
    {
      "cell_type": "markdown",
      "metadata": {
        "id": "GcFPD2vQAze1"
      },
      "source": [
        "Your comments"
      ]
    }
  ]
}